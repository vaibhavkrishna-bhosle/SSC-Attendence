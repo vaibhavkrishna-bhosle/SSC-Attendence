{
 "cells": [
  {
   "cell_type": "code",
   "execution_count": 20,
   "metadata": {},
   "outputs": [
    {
     "name": "stderr",
     "output_type": "stream",
     "text": [
      "2022-02-28 14:03:24.194 \n",
      "  \u001b[33m\u001b[1mWarning:\u001b[0m to view this Streamlit app on a browser, run it with the following\n",
      "  command:\n",
      "\n",
      "    streamlit run C:\\Users\\frost\\anaconda3\\envs\\genral\\lib\\site-packages\\ipykernel_launcher.py [ARGUMENTS]\n"
     ]
    }
   ],
   "source": [
    "import utils\n",
    "import pandas as pd\n",
    "import numpy as np\n",
    "import app\n"
   ]
  },
  {
   "cell_type": "code",
   "execution_count": 21,
   "metadata": {},
   "outputs": [],
   "source": [
    "master_list = {1: \"Vaibhavkrishna Bhosle\",\n",
    "                2: \"Shivaji Bhosle\",\n",
    "                3: \"Suvarna Bhosle\",\n",
    "                4: \"Shreekant\",\n",
    "                5: \"Shivappa\",\n",
    "                6: \"Maheshwari Biradar\",\n",
    "                7: \"Suvarna A\",\n",
    "                8: \"Sachin\",\n",
    "                9: \"Jameer Sir\",\n",
    "                10: \"Vijaylaxmi Mam\",\n",
    "                11: \"Suryakant Sir\",\n",
    "                12: \"Kannada Mam\",\n",
    "                13: \"Dattu Sir\",\n",
    "                14: \"Sandeep Sir\",\n",
    "                16: \"Pandit Sir\",\n",
    "                17: \"Vishwanath Sir\"}\n",
    "\n",
    "start_date = \"2022-01-01\"\n",
    "end_date = \"2022-02-01\""
   ]
  },
  {
   "cell_type": "code",
   "execution_count": 22,
   "metadata": {},
   "outputs": [],
   "source": [
    "df = pd.read_csv(\"data.dat\" , sep=\"\\t\",header=None)\n",
    "df.columns = [\"emp_id\",\"Date_Time\",\"fingure\",\"in_out\",\"junk\",\"junk_\"]\n",
    "df1 = df.Date_Time.str.split(expand=True)\n",
    "df[\"date\"] = pd.to_datetime(df1[0])\n",
    "df[\"time\"] = pd.to_timedelta(df1[1])\n",
    "df = df.drop([\"Date_Time\",\"fingure\",\"junk\",\"junk_\"],axis=1)"
   ]
  },
  {
   "cell_type": "code",
   "execution_count": 23,
   "metadata": {},
   "outputs": [],
   "source": [
    "final = app.filter(start_date,end_date,1,df)"
   ]
  },
  {
   "cell_type": "code",
   "execution_count": 24,
   "metadata": {},
   "outputs": [
    {
     "data": {
      "text/html": [
       "<div>\n",
       "<style scoped>\n",
       "    .dataframe tbody tr th:only-of-type {\n",
       "        vertical-align: middle;\n",
       "    }\n",
       "\n",
       "    .dataframe tbody tr th {\n",
       "        vertical-align: top;\n",
       "    }\n",
       "\n",
       "    .dataframe thead th {\n",
       "        text-align: right;\n",
       "    }\n",
       "</style>\n",
       "<table border=\"1\" class=\"dataframe\">\n",
       "  <thead>\n",
       "    <tr style=\"text-align: right;\">\n",
       "      <th></th>\n",
       "      <th>date</th>\n",
       "      <th>duration</th>\n",
       "    </tr>\n",
       "  </thead>\n",
       "  <tbody>\n",
       "    <tr>\n",
       "      <th>0</th>\n",
       "      <td>2022-01-01</td>\n",
       "      <td>NaT</td>\n",
       "    </tr>\n",
       "    <tr>\n",
       "      <th>1</th>\n",
       "      <td>2022-01-04</td>\n",
       "      <td>0 days 00:00:07</td>\n",
       "    </tr>\n",
       "    <tr>\n",
       "      <th>2</th>\n",
       "      <td>2022-01-04</td>\n",
       "      <td>0 days 01:06:49</td>\n",
       "    </tr>\n",
       "    <tr>\n",
       "      <th>3</th>\n",
       "      <td>2022-01-04</td>\n",
       "      <td>-1 days +22:53:29</td>\n",
       "    </tr>\n",
       "    <tr>\n",
       "      <th>4</th>\n",
       "      <td>2022-01-04</td>\n",
       "      <td>0 days 00:00:11</td>\n",
       "    </tr>\n",
       "  </tbody>\n",
       "</table>\n",
       "</div>"
      ],
      "text/plain": [
       "        date          duration\n",
       "0 2022-01-01               NaT\n",
       "1 2022-01-04   0 days 00:00:07\n",
       "2 2022-01-04   0 days 01:06:49\n",
       "3 2022-01-04 -1 days +22:53:29\n",
       "4 2022-01-04   0 days 00:00:11"
      ]
     },
     "execution_count": 24,
     "metadata": {},
     "output_type": "execute_result"
    }
   ],
   "source": [
    "final"
   ]
  },
  {
   "cell_type": "code",
   "execution_count": null,
   "metadata": {},
   "outputs": [],
   "source": []
  }
 ],
 "metadata": {
  "interpreter": {
   "hash": "af6e2202531836bede94875070998fd6b45f71400f643868cab8812cddeac6f8"
  },
  "kernelspec": {
   "display_name": "Python 3.6.13 ('genral')",
   "language": "python",
   "name": "python3"
  },
  "language_info": {
   "codemirror_mode": {
    "name": "ipython",
    "version": 3
   },
   "file_extension": ".py",
   "mimetype": "text/x-python",
   "name": "python",
   "nbconvert_exporter": "python",
   "pygments_lexer": "ipython3",
   "version": "3.6.13"
  },
  "orig_nbformat": 4
 },
 "nbformat": 4,
 "nbformat_minor": 2
}
